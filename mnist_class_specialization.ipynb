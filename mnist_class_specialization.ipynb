{
 "cells": [
  {
   "cell_type": "code",
   "execution_count": 1,
   "metadata": {},
   "outputs": [
    {
     "name": "stderr",
     "output_type": "stream",
     "text": [
      "Using TensorFlow backend.\n"
     ]
    }
   ],
   "source": [
    "# import\n",
    "from __future__ import print_function\n",
    "import keras\n",
    "from keras.datasets import mnist\n",
    "from keras.models import Sequential\n",
    "from keras.layers import Dense, Dropout, Flatten, Activation\n",
    "from keras.layers import Conv2D, MaxPooling2D\n",
    "from keras.optimizers import RMSprop\n",
    "from keras import backend as K\n",
    "\n",
    "import numpy as np\n",
    "\n",
    "from functools import reduce"
   ]
  },
  {
   "cell_type": "code",
   "execution_count": 8,
   "metadata": {},
   "outputs": [],
   "source": [
    "#Config\n",
    "batch_size = 128\n",
    "num_classes = 10\n",
    "epochs = 12\n",
    "\n",
    "# dimensions for the images\n",
    "img_rows, img_cols = 28, 28"
   ]
  },
  {
   "cell_type": "code",
   "execution_count": 3,
   "metadata": {},
   "outputs": [],
   "source": [
    "# loading data\n",
    "(x_train, y_train), (x_test, y_test) = mnist.load_data()"
   ]
  },
  {
   "cell_type": "code",
   "execution_count": 4,
   "metadata": {},
   "outputs": [],
   "source": [
    "# merge data and labels\n",
    "x_y_train = np.c_[y_train.reshape(len(y_train), -1), x_train.reshape(len(x_train), -1)]"
   ]
  },
  {
   "cell_type": "markdown",
   "metadata": {},
   "source": [
    "The idea is to build $n$ binary classifier where $n$ is the number of classes.\n",
    "\n",
    "The train data is composed like the following :\n",
    "* 1/2 are from the good class\n",
    "* 1/2 are from another classes\n",
    "\n",
    "This means we select all the sample from the selected class, and the same amount of samples from the other classes, randomly generated."
   ]
  },
  {
   "cell_type": "code",
   "execution_count": 5,
   "metadata": {},
   "outputs": [],
   "source": [
    "def generate_train_test(selected_class):\n",
    "    # pick the correct sample\n",
    "    x_y_train_bad = x_y_train[x_y_train[:,0] != selected_class]\n",
    "    # pick the bad sample\n",
    "    x_y_train_good = x_y_train[x_y_train[:,0] == selected_class]\n",
    "    \n",
    "    x_y_train_bad_size = len(x_y_train_bad)\n",
    "    \n",
    "    # shuffle the bad samples\n",
    "    idx = np.random.permutation(len(x_y_train_good))\n",
    "    x_y_train_bad = x_y_train_bad[idx]\n",
    "    x_y_train_bad = x_y_train_bad[:x_y_train_bad_size]\n",
    "    \n",
    "    # concat the good and bad ones and shuffle the whole\n",
    "    x_y_train_gb = np.concatenate((x_y_train_bad,x_y_train_good))\n",
    "    idx = np.random.permutation(len(x_y_train_gb))\n",
    "    x_y_train_gb = x_y_train_gb[idx]\n",
    "    \n",
    "    x_train_sample = x_y_train_gb[:,1:]\n",
    "    y_train_sample = x_y_train_gb[:,0]\n",
    "    \n",
    "    # set the label 1 for a sample corresponding to \"selected_class\" and 0 otherwise\n",
    "    y_train_sample = np.vectorize(lambda x : 1 if x == selected_class else 0)(y_train_sample)\n",
    "           \n",
    "    return x_train_sample,y_train_sample"
   ]
  },
  {
   "cell_type": "code",
   "execution_count": 11,
   "metadata": {},
   "outputs": [
    {
     "name": "stdout",
     "output_type": "stream",
     "text": [
      "Train on 11846 samples, validate on 10000 samples\n",
      "Epoch 1/20\n",
      "11846/11846 [==============================] - 1s 82us/step - loss: 0.1190 - acc: 0.8805 - val_loss: 0.0349 - val_acc: 0.9721\n",
      "Epoch 2/20\n",
      "11846/11846 [==============================] - 1s 59us/step - loss: 0.0618 - acc: 0.9412 - val_loss: 0.0201 - val_acc: 0.9749\n",
      "Epoch 3/20\n",
      "11846/11846 [==============================] - 1s 67us/step - loss: 0.0503 - acc: 0.9452 - val_loss: 0.1535 - val_acc: 0.8958\n",
      "Epoch 4/20\n",
      "11846/11846 [==============================] - 1s 58us/step - loss: 0.0426 - acc: 0.9640 - val_loss: 0.0128 - val_acc: 0.9898\n",
      "Epoch 5/20\n",
      "11846/11846 [==============================] - 1s 62us/step - loss: 0.0384 - acc: 0.9623 - val_loss: 0.0200 - val_acc: 0.9843\n",
      "Epoch 6/20\n",
      "11846/11846 [==============================] - 1s 60us/step - loss: 0.0344 - acc: 0.9661 - val_loss: 0.0541 - val_acc: 0.9687\n",
      "Epoch 7/20\n",
      "11846/11846 [==============================] - 1s 63us/step - loss: 0.0380 - acc: 0.9667 - val_loss: 0.0355 - val_acc: 0.9712\n",
      "Epoch 8/20\n",
      "11846/11846 [==============================] - 1s 57us/step - loss: 0.0323 - acc: 0.9686 - val_loss: 0.0260 - val_acc: 0.9821\n",
      "Epoch 9/20\n",
      "11846/11846 [==============================] - 1s 61us/step - loss: 0.0282 - acc: 0.9750 - val_loss: 0.0341 - val_acc: 0.9716\n",
      "Epoch 10/20\n",
      "11846/11846 [==============================] - 1s 58us/step - loss: 0.0277 - acc: 0.9709 - val_loss: 0.0208 - val_acc: 0.9905\n",
      "Epoch 11/20\n",
      "11846/11846 [==============================] - 1s 67us/step - loss: 0.0260 - acc: 0.9748 - val_loss: 0.0437 - val_acc: 0.9677\n",
      "Epoch 12/20\n",
      "11846/11846 [==============================] - 1s 57us/step - loss: 0.0225 - acc: 0.9788 - val_loss: 0.0403 - val_acc: 0.9677\n",
      "Epoch 13/20\n",
      "11846/11846 [==============================] - 1s 58us/step - loss: 0.0263 - acc: 0.9755 - val_loss: 0.0189 - val_acc: 0.9834\n",
      "Epoch 14/20\n",
      "11846/11846 [==============================] - 1s 58us/step - loss: 0.0204 - acc: 0.9800 - val_loss: 0.0095 - val_acc: 0.9913\n",
      "Epoch 15/20\n",
      "11846/11846 [==============================] - 1s 58us/step - loss: 0.0203 - acc: 0.9784 - val_loss: 0.0210 - val_acc: 0.9850\n",
      "Epoch 16/20\n",
      "11846/11846 [==============================] - 1s 57us/step - loss: 0.0220 - acc: 0.9771 - val_loss: 0.0145 - val_acc: 0.9894\n",
      "Epoch 17/20\n",
      "11846/11846 [==============================] - 1s 67us/step - loss: 0.0195 - acc: 0.9812 - val_loss: 0.0217 - val_acc: 0.9836\n",
      "Epoch 18/20\n",
      "11846/11846 [==============================] - 1s 63us/step - loss: 0.0211 - acc: 0.9782 - val_loss: 0.0134 - val_acc: 0.9886\n",
      "Epoch 19/20\n",
      "11846/11846 [==============================] - 1s 55us/step - loss: 0.0171 - acc: 0.9824 - val_loss: 0.0086 - val_acc: 0.9916\n",
      "Epoch 20/20\n",
      "11846/11846 [==============================] - 1s 57us/step - loss: 0.0216 - acc: 0.9786 - val_loss: 0.0180 - val_acc: 0.9932\n",
      "Evaluate model 0\n",
      "Test loss: 0.017975762198711432\n",
      "Test accuracy: 0.9932\n"
     ]
    }
   ],
   "source": [
    "# Just for the class 0\n",
    "\n",
    "selected_class = 0\n",
    "\n",
    "x_train_sample,y_train_sample = generate_train_test(selected_class)\n",
    "\n",
    "train_label = keras.utils.to_categorical(y_train_sample, 2)\n",
    "train_data = x_train_sample\n",
    "\n",
    "test_label = keras.utils.to_categorical(np.vectorize(lambda x : 1 if x == selected_class else 0)(y_test), 2)\n",
    "test_data = x_test.reshape(10000,784)\n",
    "\n",
    "# define the model\n",
    "model = Sequential()\n",
    "model.add(Dense(512,input_shape=(784,),activation='relu'))\n",
    "model.add(Dense(2, activation='sigmoid'))\n",
    "\n",
    "model.compile(\n",
    "    loss='mean_squared_error',\n",
    "    optimizer=RMSprop(),\n",
    "    metrics=['accuracy']\n",
    ")\n",
    "\n",
    "model.fit(train_data,train_label,\n",
    "    batch_size=batch_size,\n",
    "    epochs=epochs,\n",
    "    verbose=1,\n",
    "    validation_data=(test_data,test_label)\n",
    ")\n",
    "\n",
    "print('Evaluate model %d'%selected_class)\n",
    "score = model.evaluate(test_data, test_label, verbose=0)\n",
    "print('Test loss:', score[0])\n",
    "print('Test accuracy:', score[1])"
   ]
  },
  {
   "cell_type": "code",
   "execution_count": 13,
   "metadata": {},
   "outputs": [
    {
     "data": {
      "text/plain": [
       "<tf.Tensor 'dense_26/Sigmoid:0' shape=(?, 2) dtype=float32>"
      ]
     },
     "execution_count": 13,
     "metadata": {},
     "output_type": "execute_result"
    }
   ],
   "source": [
    "model.layers[-1].output"
   ]
  },
  {
   "cell_type": "code",
   "execution_count": 10,
   "metadata": {},
   "outputs": [
    {
     "name": "stdout",
     "output_type": "stream",
     "text": [
      "Evaluate model 0\n",
      "Test loss: 0.008561726470242966\n",
      "Test accuracy: 0.9916\n",
      "Evaluate model 1\n",
      "Test loss: 0.005513562965393066\n",
      "Test accuracy: 0.9953\n",
      "Evaluate model 2\n",
      "Test loss: 0.04304967941254427\n",
      "Test accuracy: 0.966\n",
      "Evaluate model 3\n",
      "Test loss: 0.07624410028235623\n",
      "Test accuracy: 0.9306\n",
      "Evaluate model 4\n",
      "Test loss: 0.05857579378068348\n",
      "Test accuracy: 0.9489\n",
      "Evaluate model 5\n",
      "Test loss: 0.030586595465022997\n",
      "Test accuracy: 0.975\n",
      "Evaluate model 6\n",
      "Test loss: 0.0958\n",
      "Test accuracy: 0.9042\n",
      "Evaluate model 7\n",
      "Test loss: 0.042243426406383525\n",
      "Test accuracy: 0.9654\n",
      "Evaluate model 8\n",
      "Test loss: 0.05060917433447426\n",
      "Test accuracy: 0.9566\n",
      "Evaluate model 9\n",
      "Test loss: 0.040072678203899474\n",
      "Test accuracy: 0.9632\n"
     ]
    }
   ],
   "source": [
    "models = {}\n",
    "for selected_class in range(0,num_classes) :\n",
    "    x_train_sample,y_train_sample = generate_train_test(selected_class)\n",
    "\n",
    "    train_label = keras.utils.to_categorical(y_train_sample, 2)\n",
    "    train_data = x_train_sample\n",
    "\n",
    "    test_label = keras.utils.to_categorical(np.vectorize(lambda x : 1 if x == selected_class else 0)(y_test), 2)\n",
    "    test_data = x_test.reshape(10000,784)\n",
    "\n",
    "    # define the model\n",
    "    model = Sequential()\n",
    "    model.add(Dense(512,input_shape=(784,),activation='relu'))\n",
    "    model.add(Dense(2, activation='sigmoid'))\n",
    "\n",
    "    model.compile(\n",
    "        loss='mean_squared_error',\n",
    "        optimizer=RMSprop(),\n",
    "        metrics=['accuracy']\n",
    "    )\n",
    "\n",
    "    model.fit(train_data,train_label,\n",
    "        batch_size=batch_size,\n",
    "        epochs=epochs,\n",
    "        verbose=0,\n",
    "        validation_data=(test_data,test_label)\n",
    "    )\n",
    "\n",
    "    print('Evaluate model %d'%selected_class)\n",
    "    score = model.evaluate(test_data, test_label, verbose=0)\n",
    "    print('Test loss:', score[0])\n",
    "    print('Test accuracy:', score[1])"
   ]
  },
  {
   "cell_type": "code",
   "execution_count": null,
   "metadata": {},
   "outputs": [],
   "source": []
  }
 ],
 "metadata": {
  "kernelspec": {
   "display_name": "Conda python",
   "language": "python",
   "name": "nn_mnist_specialization"
  },
  "language_info": {
   "codemirror_mode": {
    "name": "ipython",
    "version": 3
   },
   "file_extension": ".py",
   "mimetype": "text/x-python",
   "name": "python",
   "nbconvert_exporter": "python",
   "pygments_lexer": "ipython3",
   "version": "3.7.2"
  }
 },
 "nbformat": 4,
 "nbformat_minor": 2
}
