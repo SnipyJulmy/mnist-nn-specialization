{
 "cells": [
  {
   "cell_type": "code",
   "execution_count": 1,
   "metadata": {},
   "outputs": [
    {
     "name": "stderr",
     "output_type": "stream",
     "text": [
      "Using TensorFlow backend.\n"
     ]
    }
   ],
   "source": [
    "# import\n",
    "from __future__ import print_function\n",
    "import keras\n",
    "from keras.datasets import mnist\n",
    "from keras.models import Sequential\n",
    "from keras.layers import Dense, Dropout, Flatten, Activation\n",
    "from keras.layers import Conv2D, MaxPooling2D\n",
    "from keras.optimizers import RMSprop\n",
    "from keras import backend as K"
   ]
  },
  {
   "cell_type": "code",
   "execution_count": 2,
   "metadata": {},
   "outputs": [],
   "source": [
    "#Config\n",
    "batch_size = 128\n",
    "num_classes = 10\n",
    "epochs = 12\n",
    "\n",
    "# dimensions for the images\n",
    "img_rows, img_cols = 28, 28"
   ]
  },
  {
   "cell_type": "code",
   "execution_count": 3,
   "metadata": {},
   "outputs": [],
   "source": [
    "# loading data\n",
    "(x_train, y_train), (x_test, y_test) = mnist.load_data()"
   ]
  },
  {
   "cell_type": "code",
   "execution_count": 4,
   "metadata": {},
   "outputs": [
    {
     "name": "stdout",
     "output_type": "stream",
     "text": [
      "60000 train samples\n",
      "10000 test samples\n"
     ]
    }
   ],
   "source": [
    "# reshaping\n",
    "x_train = x_train.reshape(60000, 784)\n",
    "x_test = x_test.reshape(10000, 784)\n",
    "x_train = x_train.astype('float32')\n",
    "x_test = x_test.astype('float32')\n",
    "x_train /= 255\n",
    "x_test /= 255\n",
    "print(x_train.shape[0], 'train samples')\n",
    "print(x_test.shape[0], 'test samples')\n",
    "\n",
    "# convert class vectors to binary class matrices\n",
    "y_train = keras.utils.to_categorical(y_train, num_classes)\n",
    "y_test = keras.utils.to_categorical(y_test, num_classes)"
   ]
  },
  {
   "cell_type": "code",
   "execution_count": 5,
   "metadata": {},
   "outputs": [
    {
     "name": "stdout",
     "output_type": "stream",
     "text": [
      "WARNING:tensorflow:From /opt/anaconda/envs/nn_mnist_specialization/lib/python3.7/site-packages/tensorflow/python/framework/op_def_library.py:263: colocate_with (from tensorflow.python.framework.ops) is deprecated and will be removed in a future version.\n",
      "Instructions for updating:\n",
      "Colocations handled automatically by placer.\n"
     ]
    }
   ],
   "source": [
    "# define the model\n",
    "model = Sequential()\n",
    "model.add(Dense(512,input_shape=(784,),activation='relu'))\n",
    "model.add(Dense(num_classes, activation='softmax'))"
   ]
  },
  {
   "cell_type": "code",
   "execution_count": 7,
   "metadata": {},
   "outputs": [],
   "source": [
    "model.compile(\n",
    "    loss='categorical_crossentropy',\n",
    "    optimizer=RMSprop(),\n",
    "    metrics=['accuracy']\n",
    ")"
   ]
  },
  {
   "cell_type": "code",
   "execution_count": 8,
   "metadata": {},
   "outputs": [
    {
     "name": "stdout",
     "output_type": "stream",
     "text": [
      "(60000, 784)\n",
      "(60000, 10)\n"
     ]
    }
   ],
   "source": [
    "print(x_train.shape)\n",
    "print(y_train.shape)"
   ]
  },
  {
   "cell_type": "code",
   "execution_count": 19,
   "metadata": {},
   "outputs": [
    {
     "name": "stdout",
     "output_type": "stream",
     "text": [
      "Train on 60000 samples, validate on 10000 samples\n",
      "Epoch 1/12\n",
      "60000/60000 [==============================] - 3s 50us/step - loss: 0.2584 - acc: 0.9256 - val_loss: 0.1281 - val_acc: 0.9607\n",
      "Epoch 2/12\n",
      "60000/60000 [==============================] - 3s 47us/step - loss: 0.1038 - acc: 0.9690 - val_loss: 0.0992 - val_acc: 0.9708\n",
      "Epoch 3/12\n",
      "60000/60000 [==============================] - 3s 47us/step - loss: 0.0690 - acc: 0.9794 - val_loss: 0.0904 - val_acc: 0.9728\n",
      "Epoch 4/12\n",
      "60000/60000 [==============================] - 3s 47us/step - loss: 0.0491 - acc: 0.9855 - val_loss: 0.0773 - val_acc: 0.9757\n",
      "Epoch 5/12\n",
      "60000/60000 [==============================] - 3s 50us/step - loss: 0.0372 - acc: 0.9892 - val_loss: 0.0661 - val_acc: 0.9804\n",
      "Epoch 6/12\n",
      "60000/60000 [==============================] - 3s 52us/step - loss: 0.0283 - acc: 0.9916 - val_loss: 0.0673 - val_acc: 0.9807\n",
      "Epoch 7/12\n",
      "60000/60000 [==============================] - 4s 59us/step - loss: 0.0212 - acc: 0.9936 - val_loss: 0.0749 - val_acc: 0.9790\n",
      "Epoch 8/12\n",
      "60000/60000 [==============================] - 3s 51us/step - loss: 0.0162 - acc: 0.9953 - val_loss: 0.0705 - val_acc: 0.9811\n",
      "Epoch 9/12\n",
      "60000/60000 [==============================] - 2s 40us/step - loss: 0.0125 - acc: 0.9963 - val_loss: 0.0778 - val_acc: 0.9803\n",
      "Epoch 10/12\n",
      "60000/60000 [==============================] - 2s 40us/step - loss: 0.0094 - acc: 0.9973 - val_loss: 0.0690 - val_acc: 0.9814\n",
      "Epoch 11/12\n",
      "60000/60000 [==============================] - 2s 41us/step - loss: 0.0074 - acc: 0.9979 - val_loss: 0.0768 - val_acc: 0.9816\n",
      "Epoch 12/12\n",
      "60000/60000 [==============================] - 2s 40us/step - loss: 0.0060 - acc: 0.9984 - val_loss: 0.0771 - val_acc: 0.9808\n",
      "Test loss: 0.07709692223049205\n",
      "Test accuracy: 0.9808\n"
     ]
    }
   ],
   "source": [
    "model.fit(x_train,y_train,\n",
    "        batch_size=batch_size,\n",
    "        epochs=epochs,\n",
    "        verbose=1,\n",
    "        validation_data=(x_test,y_test)\n",
    "    )\n",
    "score = model.evaluate(x_test, y_test, verbose=0)\n",
    "print('Test loss:', score[0])\n",
    "print('Test accuracy:', score[1])"
   ]
  },
  {
   "cell_type": "code",
   "execution_count": null,
   "metadata": {},
   "outputs": [],
   "source": []
  }
 ],
 "metadata": {
  "kernelspec": {
   "display_name": "Conda python",
   "language": "python",
   "name": "nn_mnist_specialization"
  },
  "language_info": {
   "codemirror_mode": {
    "name": "ipython",
    "version": 3
   },
   "file_extension": ".py",
   "mimetype": "text/x-python",
   "name": "python",
   "nbconvert_exporter": "python",
   "pygments_lexer": "ipython3",
   "version": "3.7.2"
  }
 },
 "nbformat": 4,
 "nbformat_minor": 2
}
